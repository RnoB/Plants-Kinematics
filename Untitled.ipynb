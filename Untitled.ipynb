{
 "cells": [
  {
   "cell_type": "code",
   "execution_count": 38,
   "metadata": {},
   "outputs": [
    {
     "name": "stdout",
     "output_type": "stream",
     "text": [
      "The line_profiler extension is already loaded. To reload it, use:\n",
      "  %reload_ext line_profiler\n"
     ]
    },
    {
     "data": {
      "text/plain": [
       "<module 'plantsKin' from 'C:\\\\Users\\\\renaud\\\\Dropbox\\\\Python\\\\Plants-Kinematics\\\\plantsKin.py'>"
      ]
     },
     "execution_count": 38,
     "metadata": {},
     "output_type": "execute_result"
    }
   ],
   "source": [
    "\n",
    "%load_ext line_profiler\n",
    "import line_profiler\n",
    "import plantsKin as pk\n",
    "from math import pi\n",
    "import matplotlib.pyplot as plt\n",
    "import imp\n",
    "import time\n",
    "imp.reload(pk)"
   ]
  },
  {
   "cell_type": "code",
   "execution_count": 39,
   "metadata": {},
   "outputs": [],
   "source": [
    "plant = []\n",
    "plant = pk.Plant(x0 = [0,0,0],theta0 = 1.5*pi/2,N = 1000,dt=.01,growth = 'Apical',growthRate=1)"
   ]
  },
  {
   "cell_type": "code",
   "execution_count": 40,
   "metadata": {},
   "outputs": [],
   "source": [
    "#plant.addInteractions(name = 'Proprioception' ,intensity=-10)"
   ]
  },
  {
   "cell_type": "code",
   "execution_count": 41,
   "metadata": {},
   "outputs": [],
   "source": [
    "plant.addInteractions(name = 'Tropism' ,intensity=-10,direction = 0)"
   ]
  },
  {
   "cell_type": "code",
   "execution_count": 42,
   "metadata": {},
   "outputs": [
    {
     "data": {
      "text/plain": [
       "{'growthRate': 1, 'growthZone': 1, 'name': 'Apical'}"
      ]
     },
     "execution_count": 42,
     "metadata": {},
     "output_type": "execute_result"
    }
   ],
   "source": [
    "plant.skeleton[0].growth"
   ]
  },
  {
   "cell_type": "code",
   "execution_count": null,
   "metadata": {},
   "outputs": [
    {
     "name": "stderr",
     "output_type": "stream",
     "text": [
      "C:\\Users\\renaud\\Miniconda3\\lib\\site-packages\\matplotlib\\cbook\\deprecation.py:106: MatplotlibDeprecationWarning: Adding an axes using the same arguments as a previous axes currently reuses the earlier instance.  In a future version, a new instance will always be created and returned.  Meanwhile, this warning can be suppressed, and the future behavior ensured, by passing a unique label to each axes instance.\n",
      "  warnings.warn(message, mplDeprecation, stacklevel=1)\n"
     ]
    }
   ],
   "source": [
    "\n",
    "fig = plt.figure(figsize=(3, 3), dpi=100)\n",
    "for k in range(0,100):\n",
    "    ax = fig.add_subplot(111)\n",
    "    ax.plot(plant.x[:,0],plant.x[:,2])\n",
    "    t0=time.time()\n",
    "    plant.update()\n",
    "    t1=time.time()\n",
    "    #print(-1/(t0-t1))\n",
    "    t0=t1\n"
   ]
  },
  {
   "cell_type": "code",
   "execution_count": null,
   "metadata": {},
   "outputs": [],
   "source": [
    "\n",
    "fig = plt.figure(figsize=(3, 3), dpi=100)\n",
    "for k in range(0,100):\n",
    "    ax = fig.add_subplot(111)\n",
    "    ax.plot(plant.x[:,0],plant.x[:,2])\n",
    "    t0=time.time()\n",
    "    plant.update()\n",
    "    t1=time.time()\n",
    "    #print(-1/(t0-t1))\n",
    "    t0=t1"
   ]
  },
  {
   "cell_type": "code",
   "execution_count": 302,
   "metadata": {},
   "outputs": [],
   "source": [
    "%lprun -f pk.skeletonElements.update plant.update()"
   ]
  },
  {
   "cell_type": "code",
   "execution_count": 192,
   "metadata": {},
   "outputs": [],
   "source": [
    "%lprun -f plant.update plant.update()"
   ]
  },
  {
   "cell_type": "code",
   "execution_count": null,
   "metadata": {},
   "outputs": [],
   "source": []
  },
  {
   "cell_type": "code",
   "execution_count": null,
   "metadata": {},
   "outputs": [],
   "source": []
  },
  {
   "cell_type": "code",
   "execution_count": null,
   "metadata": {},
   "outputs": [],
   "source": []
  }
 ],
 "metadata": {
  "kernelspec": {
   "display_name": "Python 3",
   "language": "python",
   "name": "python3"
  },
  "language_info": {
   "codemirror_mode": {
    "name": "ipython",
    "version": 3
   },
   "file_extension": ".py",
   "mimetype": "text/x-python",
   "name": "python",
   "nbconvert_exporter": "python",
   "pygments_lexer": "ipython3",
   "version": "3.6.4"
  }
 },
 "nbformat": 4,
 "nbformat_minor": 2
}
